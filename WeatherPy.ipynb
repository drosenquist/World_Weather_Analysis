{
 "cells": [
  {
   "cell_type": "code",
   "execution_count": null,
   "id": "f4c64bbe",
   "metadata": {},
   "outputs": [],
   "source": [
    "# Import the dependencies.\n",
    "import pandas as pd\n",
    "import matplotlib.pyplot as plt\n",
    "import numpy as np"
   ]
  },
  {
   "cell_type": "code",
   "execution_count": null,
   "id": "aa199c9b",
   "metadata": {},
   "outputs": [],
   "source": [
    "# Create a set of random latitude and longitude combinations.\n",
    "lats = np.random.uniform(low=-90.000, high=90.000, size=1500)\n",
    "lngs = np.random.uniform(low=-180.000, high=180.000, size=1500)\n",
    "lat_lngs = zip(lats, lngs)\n",
    "lat_lngs"
   ]
  },
  {
   "cell_type": "code",
   "execution_count": null,
   "id": "8af1b3af",
   "metadata": {},
   "outputs": [],
   "source": [
    "# Add the latitudes and longitudes to a list.\n",
    "coordinates = list(lat_lngs)"
   ]
  },
  {
   "cell_type": "code",
   "execution_count": null,
   "id": "e45b1b61",
   "metadata": {},
   "outputs": [],
   "source": [
    "# Use the citipy module to determine city based on latitude and longitude.\n",
    "from citipy import citipy"
   ]
  },
  {
   "cell_type": "code",
   "execution_count": null,
   "id": "4f73529b",
   "metadata": {},
   "outputs": [],
   "source": [
    "# Create a list for holding the cities.\n",
    "cities = []\n",
    "# Identify the nearest city for each latitude and longitude combination.\n",
    "for coordinate in coordinates:\n",
    "    city = citipy.nearest_city(coordinate[0], coordinate[1]).city_name\n",
    "\n",
    "    # If the city is unique, then we will add it to the cities list.\n",
    "    if city not in cities:\n",
    "        cities.append(city)\n",
    "# Print the city count to confirm sufficient count.\n",
    "len(cities)"
   ]
  },
  {
   "cell_type": "code",
   "execution_count": null,
   "id": "ec7a0672",
   "metadata": {},
   "outputs": [],
   "source": [
    "# Import the requests library.\n",
    "import requests\n",
    "\n",
    "# Import the API key.\n",
    "from config import weather_api_key"
   ]
  },
  {
   "cell_type": "code",
   "execution_count": null,
   "id": "c9d406eb",
   "metadata": {},
   "outputs": [],
   "source": [
    "# Starting URL for Weather Map API Call.\n",
    "url = \"http://api.openweathermap.org/data/2.5/weather?units=Imperial&APPID=\" + weather_api_key\n",
    "print(url)"
   ]
  },
  {
   "cell_type": "code",
   "execution_count": null,
   "id": "93883188",
   "metadata": {},
   "outputs": [],
   "source": [
    "# Create an endpoint URL for a city.\n",
    "city_url = url + \"&q=\" + \"Boston\"\n",
    "print(city_url)"
   ]
  },
  {
   "cell_type": "code",
   "execution_count": null,
   "id": "c481dfa7",
   "metadata": {},
   "outputs": [],
   "source": [
    "# Import the time library and the datetime module from the datetime library \n",
    "import time\n",
    "from datetime import datetime"
   ]
  },
  {
   "cell_type": "code",
   "execution_count": 15,
   "id": "4e15bfc9",
   "metadata": {},
   "outputs": [
    {
     "name": "stdout",
     "output_type": "stream",
     "text": [
      "Beginning Data Retrieval     \n",
      "-----------------------------\n",
      "Processing Record 1 of Set 1 | punta arenas\n",
      "Processing Record 2 of Set 1 | tuktoyaktuk\n",
      "Processing Record 3 of Set 1 | bredasdorp\n",
      "Processing Record 4 of Set 1 | taolanaro\n",
      "City not found. Skipping...\n",
      "Processing Record 5 of Set 1 | rikitea\n",
      "Processing Record 6 of Set 1 | geraldton\n",
      "Processing Record 7 of Set 1 | oranjestad\n",
      "Processing Record 8 of Set 1 | saskylakh\n",
      "Processing Record 9 of Set 1 | castro\n",
      "Processing Record 10 of Set 1 | souillac\n",
      "Processing Record 11 of Set 1 | mataura\n",
      "Processing Record 12 of Set 1 | ushuaia\n",
      "Processing Record 13 of Set 1 | albany\n",
      "Processing Record 14 of Set 1 | cabo san lucas\n",
      "Processing Record 15 of Set 1 | butaritari\n",
      "Processing Record 16 of Set 1 | halifax\n",
      "Processing Record 17 of Set 1 | grindavik\n",
      "Processing Record 18 of Set 1 | arman\n",
      "Processing Record 19 of Set 1 | ancud\n",
      "Processing Record 20 of Set 1 | upernavik\n",
      "Processing Record 21 of Set 1 | san quintin\n",
      "Processing Record 22 of Set 1 | sabha\n",
      "Processing Record 23 of Set 1 | labuhan\n",
      "Processing Record 24 of Set 1 | mount isa\n",
      "Processing Record 25 of Set 1 | jiayuguan\n",
      "Processing Record 26 of Set 1 | kapaa\n",
      "Processing Record 27 of Set 1 | salalah\n",
      "Processing Record 28 of Set 1 | avarua\n",
      "Processing Record 29 of Set 1 | port hedland\n",
      "Processing Record 30 of Set 1 | chokurdakh\n",
      "Processing Record 31 of Set 1 | alofi\n",
      "Processing Record 32 of Set 1 | busselton\n",
      "Processing Record 33 of Set 1 | hobart\n",
      "Processing Record 34 of Set 1 | longyearbyen\n",
      "Processing Record 35 of Set 1 | puerto ayora\n",
      "Processing Record 36 of Set 1 | eureka\n",
      "Processing Record 37 of Set 1 | trairi\n",
      "Processing Record 38 of Set 1 | marmora\n",
      "Processing Record 39 of Set 1 | hithadhoo\n",
      "Processing Record 40 of Set 1 | atuona\n",
      "Processing Record 41 of Set 1 | washim\n",
      "Processing Record 42 of Set 1 | porto belo\n",
      "Processing Record 43 of Set 1 | cidreira\n",
      "Processing Record 44 of Set 1 | sentyabrskiy\n",
      "City not found. Skipping...\n",
      "Processing Record 45 of Set 1 | padang\n",
      "Processing Record 46 of Set 1 | bathsheba\n",
      "Processing Record 47 of Set 1 | moindou\n",
      "Processing Record 48 of Set 1 | bandarbeyla\n",
      "Processing Record 49 of Set 1 | inhambane\n",
      "Processing Record 50 of Set 1 | miranda\n",
      "Processing Record 1 of Set 2 | tasiilaq\n",
      "Processing Record 2 of Set 2 | lavrentiya\n",
      "Processing Record 3 of Set 2 | nantucket\n",
      "Processing Record 4 of Set 2 | dikson\n",
      "Processing Record 5 of Set 2 | carnarvon\n",
      "Processing Record 6 of Set 2 | guerrero negro\n",
      "Processing Record 7 of Set 2 | tsihombe\n",
      "City not found. Skipping...\n",
      "Processing Record 8 of Set 2 | sanchez\n",
      "Processing Record 9 of Set 2 | vanavara\n",
      "Processing Record 10 of Set 2 | vanimo\n",
      "Processing Record 11 of Set 2 | umzimvubu\n",
      "City not found. Skipping...\n",
      "Processing Record 12 of Set 2 | jamestown\n",
      "Processing Record 13 of Set 2 | sidi bu zayd\n",
      "City not found. Skipping...\n",
      "Processing Record 14 of Set 2 | tamale\n",
      "Processing Record 15 of Set 2 | shkotovo-26\n",
      "City not found. Skipping...\n",
      "Processing Record 16 of Set 2 | impfondo\n",
      "Processing Record 17 of Set 2 | verviers\n",
      "Processing Record 18 of Set 2 | bluff\n",
      "Processing Record 19 of Set 2 | namibe\n",
      "Processing Record 20 of Set 2 | tashtyp\n",
      "Processing Record 21 of Set 2 | yuzhnyy\n",
      "Processing Record 22 of Set 2 | hasaki\n",
      "Processing Record 23 of Set 2 | henties bay\n",
      "Processing Record 24 of Set 2 | kodiak\n",
      "Processing Record 25 of Set 2 | hilo\n",
      "Processing Record 26 of Set 2 | ponta do sol\n",
      "Processing Record 27 of Set 2 | tarauaca\n",
      "Processing Record 28 of Set 2 | adrar\n",
      "Processing Record 29 of Set 2 | kurilsk\n",
      "Processing Record 30 of Set 2 | northam\n",
      "Processing Record 31 of Set 2 | faya\n",
      "Processing Record 32 of Set 2 | morada nova\n",
      "Processing Record 33 of Set 2 | belushya guba\n",
      "City not found. Skipping...\n",
      "Processing Record 34 of Set 2 | lagoa\n",
      "Processing Record 35 of Set 2 | sinegorye\n",
      "Processing Record 36 of Set 2 | margate\n",
      "Processing Record 37 of Set 2 | los llanos de aridane\n",
      "Processing Record 38 of Set 2 | tautira\n",
      "Processing Record 39 of Set 2 | bartica\n",
      "Processing Record 40 of Set 2 | luderitz\n",
      "Processing Record 41 of Set 2 | minot\n",
      "Processing Record 42 of Set 2 | baoning\n",
      "Processing Record 43 of Set 2 | bengkulu\n",
      "Processing Record 44 of Set 2 | vaini\n",
      "Processing Record 45 of Set 2 | karratha\n",
      "Processing Record 46 of Set 2 | khuzhir\n",
      "Processing Record 47 of Set 2 | port alfred\n",
      "Processing Record 48 of Set 2 | amderma\n",
      "City not found. Skipping...\n",
      "Processing Record 49 of Set 2 | warqla\n",
      "City not found. Skipping...\n",
      "Processing Record 50 of Set 2 | paignton\n"
     ]
    },
    {
     "ename": "KeyboardInterrupt",
     "evalue": "",
     "output_type": "error",
     "traceback": [
      "\u001b[0;31m---------------------------------------------------------------------------\u001b[0m",
      "\u001b[0;31mKeyboardInterrupt\u001b[0m                         Traceback (most recent call last)",
      "\u001b[0;32m/var/folders/n5/g13nvbbj167d3dj1n2dsf57r0000gn/T/ipykernel_8524/2942046215.py\u001b[0m in \u001b[0;36m<module>\u001b[0;34m\u001b[0m\n\u001b[1;32m     16\u001b[0m         \u001b[0mset_count\u001b[0m \u001b[0;34m+=\u001b[0m \u001b[0;36m1\u001b[0m\u001b[0;34m\u001b[0m\u001b[0;34m\u001b[0m\u001b[0m\n\u001b[1;32m     17\u001b[0m         \u001b[0mrecord_count\u001b[0m \u001b[0;34m=\u001b[0m \u001b[0;36m1\u001b[0m\u001b[0;34m\u001b[0m\u001b[0;34m\u001b[0m\u001b[0m\n\u001b[0;32m---> 18\u001b[0;31m         \u001b[0mtime\u001b[0m\u001b[0;34m.\u001b[0m\u001b[0msleep\u001b[0m\u001b[0;34m(\u001b[0m\u001b[0;36m60\u001b[0m\u001b[0;34m)\u001b[0m\u001b[0;34m\u001b[0m\u001b[0;34m\u001b[0m\u001b[0m\n\u001b[0m\u001b[1;32m     19\u001b[0m \u001b[0;34m\u001b[0m\u001b[0m\n\u001b[1;32m     20\u001b[0m     \u001b[0;31m# Create endpoint URL with each city.\u001b[0m\u001b[0;34m\u001b[0m\u001b[0;34m\u001b[0m\u001b[0m\n",
      "\u001b[0;31mKeyboardInterrupt\u001b[0m: "
     ]
    }
   ],
   "source": [
    "# Create an empty list to hold the weather data.\n",
    "city_data = []\n",
    "# Print the beginning of the logging.\n",
    "print(\"Beginning Data Retrieval     \")\n",
    "print(\"-----------------------------\")\n",
    "\n",
    "# Create counters.\n",
    "record_count = 1\n",
    "set_count = 1\n",
    "\n",
    "# Loop through all the cities in the list.\n",
    "for i, city in enumerate(cities):\n",
    "\n",
    "    # Group cities in sets of 50 for logging purposes.\n",
    "    if (i % 50 == 0 and i >= 50):\n",
    "        set_count += 1\n",
    "        record_count = 1\n",
    "        time.sleep(60)\n",
    "\n",
    "    # Create endpoint URL with each city.\n",
    "    city_url = url + \"&q=\" + city.replace(\" \",\"+\")\n",
    "\n",
    "    # Log the URL, record, and set numbers and the city.\n",
    "    print(f\"Processing Record {record_count} of Set {set_count} | {city}\")\n",
    "    # Add 1 to the record count.\n",
    "    record_count += 1\n",
    "\n",
    "# Run an API request for each of the cities.\n",
    "    try:\n",
    "        # Parse the JSON and retrieve data.\n",
    "        city_weather = requests.get(city_url).json()\n",
    "        # Parse out the needed data.\n",
    "        city_lat = city_weather[\"coord\"][\"lat\"]\n",
    "        city_lng = city_weather[\"coord\"][\"lon\"]\n",
    "        city_max_temp = city_weather[\"main\"][\"temp_max\"]\n",
    "        city_humidity = city_weather[\"main\"][\"humidity\"]\n",
    "        city_clouds = city_weather[\"clouds\"][\"all\"]\n",
    "        city_wind = city_weather[\"wind\"][\"speed\"]\n",
    "        city_country = city_weather[\"sys\"][\"country\"]\n",
    "        # Convert the date to ISO standard.\n",
    "        city_date = datetime.utcfromtimestamp(city_weather[\"dt\"]).strftime('%Y-%m-%d %H:%M:%S')\n",
    "        # Append the city information into city_data list.\n",
    "        city_data.append({\"City\": city.title(),\n",
    "                          \"Lat\": city_lat,\n",
    "                          \"Lng\": city_lng,\n",
    "                          \"Max Temp\": city_max_temp,\n",
    "                          \"Humidity\": city_humidity,\n",
    "                          \"Cloudiness\": city_clouds,\n",
    "                          \"Wind Speed\": city_wind,\n",
    "                          \"Country\": city_country,\n",
    "                          \"Date\": city_date})\n",
    "\n",
    "# If an error is experienced, skip the city.\n",
    "    except:\n",
    "        print(\"City not found. Skipping...\")\n",
    "        pass\n",
    "\n",
    "# Indicate that Data Loading is complete.\n",
    "print(\"-----------------------------\")\n",
    "print(\"Data Retrieval Complete      \")\n",
    "print(\"-----------------------------\")"
   ]
  },
  {
   "cell_type": "code",
   "execution_count": 16,
   "id": "fae51b1b",
   "metadata": {},
   "outputs": [
    {
     "data": {
      "text/html": [
       "<div>\n",
       "<style scoped>\n",
       "    .dataframe tbody tr th:only-of-type {\n",
       "        vertical-align: middle;\n",
       "    }\n",
       "\n",
       "    .dataframe tbody tr th {\n",
       "        vertical-align: top;\n",
       "    }\n",
       "\n",
       "    .dataframe thead th {\n",
       "        text-align: right;\n",
       "    }\n",
       "</style>\n",
       "<table border=\"1\" class=\"dataframe\">\n",
       "  <thead>\n",
       "    <tr style=\"text-align: right;\">\n",
       "      <th></th>\n",
       "      <th>City</th>\n",
       "      <th>Lat</th>\n",
       "      <th>Lng</th>\n",
       "      <th>Max Temp</th>\n",
       "      <th>Humidity</th>\n",
       "      <th>Cloudiness</th>\n",
       "      <th>Wind Speed</th>\n",
       "      <th>Country</th>\n",
       "      <th>Date</th>\n",
       "    </tr>\n",
       "  </thead>\n",
       "  <tbody>\n",
       "    <tr>\n",
       "      <th>0</th>\n",
       "      <td>Punta Arenas</td>\n",
       "      <td>-53.1500</td>\n",
       "      <td>-70.9167</td>\n",
       "      <td>39.11</td>\n",
       "      <td>64</td>\n",
       "      <td>93</td>\n",
       "      <td>7.38</td>\n",
       "      <td>CL</td>\n",
       "      <td>2022-04-27 02:03:19</td>\n",
       "    </tr>\n",
       "    <tr>\n",
       "      <th>1</th>\n",
       "      <td>Tuktoyaktuk</td>\n",
       "      <td>69.4541</td>\n",
       "      <td>-133.0374</td>\n",
       "      <td>27.05</td>\n",
       "      <td>86</td>\n",
       "      <td>99</td>\n",
       "      <td>8.05</td>\n",
       "      <td>CA</td>\n",
       "      <td>2022-04-27 02:03:20</td>\n",
       "    </tr>\n",
       "    <tr>\n",
       "      <th>2</th>\n",
       "      <td>Bredasdorp</td>\n",
       "      <td>-34.5322</td>\n",
       "      <td>20.0403</td>\n",
       "      <td>52.79</td>\n",
       "      <td>84</td>\n",
       "      <td>0</td>\n",
       "      <td>3.40</td>\n",
       "      <td>ZA</td>\n",
       "      <td>2022-04-27 02:00:56</td>\n",
       "    </tr>\n",
       "    <tr>\n",
       "      <th>3</th>\n",
       "      <td>Rikitea</td>\n",
       "      <td>-23.1203</td>\n",
       "      <td>-134.9692</td>\n",
       "      <td>77.88</td>\n",
       "      <td>71</td>\n",
       "      <td>100</td>\n",
       "      <td>20.92</td>\n",
       "      <td>PF</td>\n",
       "      <td>2022-04-27 02:01:35</td>\n",
       "    </tr>\n",
       "    <tr>\n",
       "      <th>4</th>\n",
       "      <td>Geraldton</td>\n",
       "      <td>-28.7667</td>\n",
       "      <td>114.6000</td>\n",
       "      <td>64.81</td>\n",
       "      <td>82</td>\n",
       "      <td>75</td>\n",
       "      <td>14.97</td>\n",
       "      <td>AU</td>\n",
       "      <td>2022-04-27 02:03:21</td>\n",
       "    </tr>\n",
       "    <tr>\n",
       "      <th>5</th>\n",
       "      <td>Oranjestad</td>\n",
       "      <td>12.5240</td>\n",
       "      <td>-70.0270</td>\n",
       "      <td>79.47</td>\n",
       "      <td>82</td>\n",
       "      <td>100</td>\n",
       "      <td>20.74</td>\n",
       "      <td>AW</td>\n",
       "      <td>2022-04-27 02:03:22</td>\n",
       "    </tr>\n",
       "    <tr>\n",
       "      <th>6</th>\n",
       "      <td>Saskylakh</td>\n",
       "      <td>71.9167</td>\n",
       "      <td>114.0833</td>\n",
       "      <td>16.47</td>\n",
       "      <td>81</td>\n",
       "      <td>97</td>\n",
       "      <td>2.98</td>\n",
       "      <td>RU</td>\n",
       "      <td>2022-04-27 02:03:22</td>\n",
       "    </tr>\n",
       "    <tr>\n",
       "      <th>7</th>\n",
       "      <td>Castro</td>\n",
       "      <td>-24.7911</td>\n",
       "      <td>-50.0119</td>\n",
       "      <td>62.04</td>\n",
       "      <td>91</td>\n",
       "      <td>55</td>\n",
       "      <td>3.80</td>\n",
       "      <td>BR</td>\n",
       "      <td>2022-04-27 02:03:22</td>\n",
       "    </tr>\n",
       "    <tr>\n",
       "      <th>8</th>\n",
       "      <td>Souillac</td>\n",
       "      <td>-20.5167</td>\n",
       "      <td>57.5167</td>\n",
       "      <td>73.78</td>\n",
       "      <td>88</td>\n",
       "      <td>20</td>\n",
       "      <td>9.22</td>\n",
       "      <td>MU</td>\n",
       "      <td>2022-04-27 01:59:24</td>\n",
       "    </tr>\n",
       "    <tr>\n",
       "      <th>9</th>\n",
       "      <td>Mataura</td>\n",
       "      <td>-46.1927</td>\n",
       "      <td>168.8643</td>\n",
       "      <td>55.47</td>\n",
       "      <td>89</td>\n",
       "      <td>85</td>\n",
       "      <td>3.78</td>\n",
       "      <td>NZ</td>\n",
       "      <td>2022-04-27 02:03:23</td>\n",
       "    </tr>\n",
       "  </tbody>\n",
       "</table>\n",
       "</div>"
      ],
      "text/plain": [
       "           City      Lat       Lng  Max Temp  Humidity  Cloudiness  \\\n",
       "0  Punta Arenas -53.1500  -70.9167     39.11        64          93   \n",
       "1   Tuktoyaktuk  69.4541 -133.0374     27.05        86          99   \n",
       "2    Bredasdorp -34.5322   20.0403     52.79        84           0   \n",
       "3       Rikitea -23.1203 -134.9692     77.88        71         100   \n",
       "4     Geraldton -28.7667  114.6000     64.81        82          75   \n",
       "5    Oranjestad  12.5240  -70.0270     79.47        82         100   \n",
       "6     Saskylakh  71.9167  114.0833     16.47        81          97   \n",
       "7        Castro -24.7911  -50.0119     62.04        91          55   \n",
       "8      Souillac -20.5167   57.5167     73.78        88          20   \n",
       "9       Mataura -46.1927  168.8643     55.47        89          85   \n",
       "\n",
       "   Wind Speed Country                 Date  \n",
       "0        7.38      CL  2022-04-27 02:03:19  \n",
       "1        8.05      CA  2022-04-27 02:03:20  \n",
       "2        3.40      ZA  2022-04-27 02:00:56  \n",
       "3       20.92      PF  2022-04-27 02:01:35  \n",
       "4       14.97      AU  2022-04-27 02:03:21  \n",
       "5       20.74      AW  2022-04-27 02:03:22  \n",
       "6        2.98      RU  2022-04-27 02:03:22  \n",
       "7        3.80      BR  2022-04-27 02:03:22  \n",
       "8        9.22      MU  2022-04-27 01:59:24  \n",
       "9        3.78      NZ  2022-04-27 02:03:23  "
      ]
     },
     "execution_count": 16,
     "metadata": {},
     "output_type": "execute_result"
    }
   ],
   "source": [
    "# Convert the array of dictionaries to a Pandas DataFrame.\n",
    "city_data_df = pd.DataFrame(city_data)\n",
    "city_data_df.head(10)"
   ]
  },
  {
   "cell_type": "code",
   "execution_count": 18,
   "id": "766d9a54",
   "metadata": {},
   "outputs": [],
   "source": [
    "# Create the output file (CSV).\n",
    "output_data_file = \"weather_data/cities.csv\"\n",
    "# Export the City_Data into a CSV.\n",
    "city_data_df.to_csv(output_data_file, index_label=\"City_ID\")"
   ]
  },
  {
   "cell_type": "code",
   "execution_count": 19,
   "id": "49fcf14d",
   "metadata": {},
   "outputs": [],
   "source": [
    "# Extract relevant fields from the DataFrame for plotting.\n",
    "lats = city_data_df[\"Lat\"]\n",
    "max_temps = city_data_df[\"Max Temp\"]\n",
    "humidity = city_data_df[\"Humidity\"]\n",
    "cloudiness = city_data_df[\"Cloudiness\"]\n",
    "wind_speed = city_data_df[\"Wind Speed\"]"
   ]
  },
  {
   "cell_type": "code",
   "execution_count": 20,
   "id": "ca4ea81d",
   "metadata": {},
   "outputs": [
    {
     "data": {
      "text/plain": [
       "1651025915.036436"
      ]
     },
     "execution_count": 20,
     "metadata": {},
     "output_type": "execute_result"
    }
   ],
   "source": [
    "# Import the time module.\n",
    "import time\n",
    "# Get today's date in seconds.\n",
    "today = time.time()\n",
    "today"
   ]
  },
  {
   "cell_type": "code",
   "execution_count": 21,
   "id": "2a1b37ea",
   "metadata": {},
   "outputs": [
    {
     "data": {
      "image/png": "[encoded data removed]",
      "text/plain": [
       "<Figure size 432x288 with 1 Axes>"
      ]
     },
     "metadata": {
      "needs_background": "light"
     },
     "output_type": "display_data"
    }
   ],
   "source": [
    "# Import time module\n",
    "import time\n",
    "\n",
    "# Build the scatter plot for latitude vs. max temperature.\n",
    "plt.scatter(lats,\n",
    "            max_temps,\n",
    "            edgecolor=\"black\", linewidths=1, marker=\"o\",\n",
    "            alpha=0.8, label=\"Cities\")\n",
    "\n",
    "# Incorporate the other graph properties.\n",
    "plt.title(f\"City Latitude vs. Max Temperature \"+ time.strftime(\"%x\"))\n",
    "plt.ylabel(\"Max Temperature (F)\")\n",
    "plt.xlabel(\"Latitude\")\n",
    "plt.grid(True)\n",
    "\n",
    "# Save the figure.\n",
    "plt.savefig(\"weather_data/Fig1.png\")\n",
    "\n",
    "# Show plot.\n",
    "plt.show()"
   ]
  },
  {
   "cell_type": "code",
   "execution_count": 22,
   "id": "946d026d",
   "metadata": {},
   "outputs": [
    {
     "data": {
      "image/png": "[encoded data removed]",
      "text/plain": [
       "<Figure size 432x288 with 1 Axes>"
      ]
     },
     "metadata": {
      "needs_background": "light"
     },
     "output_type": "display_data"
    }
   ],
   "source": [
    "# Build the scatter plots for latitude vs. humidity.\n",
    "plt.scatter(lats,\n",
    "            humidity,\n",
    "            edgecolor=\"black\", linewidths=1, marker=\"o\",\n",
    "            alpha=0.8, label=\"Cities\")\n",
    "\n",
    "# Incorporate the other graph properties.\n",
    "plt.title(f\"City Latitude vs. Humidity \"+ time.strftime(\"%x\"))\n",
    "plt.ylabel(\"Humidity (%)\")\n",
    "plt.xlabel(\"Latitude\")\n",
    "plt.grid(True)\n",
    "# Save the figure.\n",
    "plt.savefig(\"weather_data/Fig2.png\")\n",
    "# Show plot.\n",
    "plt.show()"
   ]
  },
  {
   "cell_type": "code",
   "execution_count": 23,
   "id": "704ea420",
   "metadata": {},
   "outputs": [
    {
     "data": {
      "image/png": "[encoded data removed]",
      "text/plain": [
       "<Figure size 432x288 with 1 Axes>"
      ]
     },
     "metadata": {
      "needs_background": "light"
     },
     "output_type": "display_data"
    }
   ],
   "source": [
    "# Build the scatter plots for latitude vs. cloudiness.\n",
    "plt.scatter(lats,\n",
    "            cloudiness,\n",
    "            edgecolor=\"black\", linewidths=1, marker=\"o\",\n",
    "            alpha=0.8, label=\"Cities\")\n",
    "\n",
    "# Incorporate the other graph properties.\n",
    "plt.title(f\"City Latitude vs. Cloudiness (%) \"+ time.strftime(\"%x\"))\n",
    "plt.ylabel(\"Cloudiness (%)\")\n",
    "plt.xlabel(\"Latitude\")\n",
    "plt.grid(True)\n",
    "# Save the figure.\n",
    "plt.savefig(\"weather_data/Fig3.png\")\n",
    "# Show plot.\n",
    "plt.show()"
   ]
  },
  {
   "cell_type": "code",
   "execution_count": 24,
   "id": "eca79a87",
   "metadata": {},
   "outputs": [
    {
     "data": {
      "image/png": "[encoded data removed]",
      "text/plain": [
       "<Figure size 432x288 with 1 Axes>"
      ]
     },
     "metadata": {
      "needs_background": "light"
     },
     "output_type": "display_data"
    }
   ],
   "source": [
    "# Build the scatter plots for latitude vs. wind speed.\n",
    "plt.scatter(lats,\n",
    "            wind_speed,\n",
    "            edgecolor=\"black\", linewidths=1, marker=\"o\",\n",
    "            alpha=0.8, label=\"Cities\")\n",
    "\n",
    "# Incorporate the other graph properties.\n",
    "plt.title(f\"City Latitude vs. Wind Speed \"+ time.strftime(\"%x\"))\n",
    "plt.ylabel(\"Wind Speed (mph)\")\n",
    "plt.xlabel(\"Latitude\")\n",
    "plt.grid(True)\n",
    "# Save the figure.\n",
    "plt.savefig(\"weather_data/Fig4.png\")\n",
    "# Show plot.\n",
    "plt.show()"
   ]
  },
  {
   "cell_type": "code",
   "execution_count": null,
   "id": "6e71280f",
   "metadata": {},
   "outputs": [],
   "source": []
  }
 ],
 "metadata": {
  "kernelspec": {
   "display_name": "PythonData",
   "language": "python",
   "name": "pythondata"
  },
  "language_info": {
   "codemirror_mode": {
    "name": "ipython",
    "version": 3
   },
   "file_extension": ".py",
   "mimetype": "text/x-python",
   "name": "python",
   "nbconvert_exporter": "python",
   "pygments_lexer": "ipython3",
   "version": "3.9.7"
  }
 },
 "nbformat": 4,
 "nbformat_minor": 5
}
